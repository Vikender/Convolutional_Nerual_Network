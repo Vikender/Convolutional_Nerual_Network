{
 "cells": [
  {
   "cell_type": "markdown",
   "metadata": {},
   "source": [
    "# Objective\n",
    "In this Model I took MNIST data set which contain image for 0 to 9 digits. HEre I used a squential model to predict the image of digits between 0 to 9.\n",
    "\n"
   ]
  },
  {
   "cell_type": "code",
   "execution_count": 1,
   "metadata": {},
   "outputs": [
    {
     "name": "stderr",
     "output_type": "stream",
     "text": [
      "f:\\installedsoftware\\anaconda\\envs\\rasa\\lib\\site-packages\\h5py\\__init__.py:36: FutureWarning: Conversion of the second argument of issubdtype from `float` to `np.floating` is deprecated. In future, it will be treated as `np.float64 == np.dtype(float).type`.\n",
      "  from ._conv import register_converters as _register_converters\n",
      "Using TensorFlow backend.\n"
     ]
    }
   ],
   "source": [
    "# import all the libraries \n",
    "import numpy as np\n",
    "import random \n",
    "import keras\n",
    "from keras.datasets import mnist\n",
    "from keras.models import Sequential\n",
    "from keras.layers import Dense, Dropout , Flatten\n",
    "from keras.layers import Conv2D, MaxPooling2D\n",
    "from keras import backend as K"
   ]
  },
  {
   "cell_type": "code",
   "execution_count": 2,
   "metadata": {},
   "outputs": [],
   "source": [
    "# here loading the MNIST dataa set\n",
    "(x_train, y_train), (x_test,y_test)=mnist.load_data()"
   ]
  },
  {
   "cell_type": "code",
   "execution_count": 3,
   "metadata": {},
   "outputs": [
    {
     "name": "stdout",
     "output_type": "stream",
     "text": [
      "train data.....\n",
      "Input Train data shape is  (60000, 28, 28)\n",
      "Output Train data shape is  (60000,)\n",
      "Test data.....\n",
      "Input Test data shape is  (10000, 28, 28)\n",
      "Output Test data shape is  (10000,)\n"
     ]
    }
   ],
   "source": [
    "print(\"train data.....\")\n",
    "print(\"Input Train data shape is \",x_train.shape)\n",
    "print(\"Output Train data shape is \",y_train.shape)\n",
    "print(\"Test data.....\")\n",
    "print(\"Input Test data shape is \",x_test.shape)\n",
    "print(\"Output Test data shape is \",y_test.shape)"
   ]
  },
  {
   "cell_type": "code",
   "execution_count": 4,
   "metadata": {},
   "outputs": [
    {
     "name": "stdout",
     "output_type": "stream",
     "text": [
      "train data.....\n",
      "Input Train data shape is  (30000, 28, 28)\n",
      "Output Train data shape is  (30000,)\n"
     ]
    }
   ],
   "source": [
    "# here taking random data of 30000 size only \n",
    "idx=np.random.randint(x_train.shape[0],size=30000)\n",
    "x_train=x_train[idx,:]\n",
    "y_train=y_train[idx]\n",
    "print(\"train data.....\")\n",
    "print(\"Input Train data shape is \",x_train.shape)\n",
    "print(\"Output Train data shape is \",y_train.shape)"
   ]
  },
  {
   "cell_type": "code",
   "execution_count": 5,
   "metadata": {},
   "outputs": [],
   "source": [
    "# defining the shape attributes for the input data set like row ,col, no. of channel\n",
    "img_rows, img_cols= 28, 28\n",
    "input_shape=(img_rows,img_cols,1)\n",
    "\n",
    "batch_size=128\n",
    "num_classes=10\n",
    "\n",
    "epochs=10"
   ]
  },
  {
   "cell_type": "code",
   "execution_count": 6,
   "metadata": {},
   "outputs": [
    {
     "name": "stdout",
     "output_type": "stream",
     "text": [
      "(30000, 28, 28, 1)\n",
      "(10000, 28, 28, 1)\n"
     ]
    }
   ],
   "source": [
    "# Here I reshape the train and test data by adding one more dimension for channel no. \n",
    "# here image is grey scale so i took 1 in 4th dimension\n",
    "x_train=x_train.reshape(x_train.shape[0],img_rows,img_cols,1)\n",
    "x_test=x_test.reshape(x_test.shape[0],img_rows,img_cols,1)\n",
    "print(x_train.shape)\n",
    "print(x_test.shape)\n"
   ]
  },
  {
   "cell_type": "code",
   "execution_count": 7,
   "metadata": {},
   "outputs": [
    {
     "name": "stdout",
     "output_type": "stream",
     "text": [
      "(30000, 10)\n"
     ]
    }
   ],
   "source": [
    "# convert class labels (from digits) to one-hot encoded vectors\n",
    "y_train = keras.utils.to_categorical(y_train, num_classes)\n",
    "y_test = keras.utils.to_categorical(y_test, num_classes)\n",
    "print(y_train.shape)"
   ]
  },
  {
   "cell_type": "code",
   "execution_count": 8,
   "metadata": {},
   "outputs": [
    {
     "data": {
      "text/plain": [
       "dtype('uint8')"
      ]
     },
     "execution_count": 8,
     "metadata": {},
     "output_type": "execute_result"
    }
   ],
   "source": [
    "x_train.dtype"
   ]
  },
  {
   "cell_type": "code",
   "execution_count": 9,
   "metadata": {},
   "outputs": [],
   "source": [
    "# Here I converted the data type as float\n",
    "x_train=x_train.astype('float32')\n",
    "x_test=x_test.astype('float32')\n",
    "\n",
    "# normalisinf the pixels\n",
    "x_train/=255\n",
    "x_test/=255"
   ]
  },
  {
   "cell_type": "code",
   "execution_count": 10,
   "metadata": {},
   "outputs": [
    {
     "name": "stdout",
     "output_type": "stream",
     "text": [
      "_________________________________________________________________\n",
      "Layer (type)                 Output Shape              Param #   \n",
      "=================================================================\n",
      "conv2d_1 (Conv2D)            (None, 27, 27, 32)        160       \n",
      "_________________________________________________________________\n",
      "max_pooling2d_1 (MaxPooling2 (None, 13, 13, 32)        0         \n",
      "_________________________________________________________________\n",
      "flatten_1 (Flatten)          (None, 5408)              0         \n",
      "_________________________________________________________________\n",
      "dense_1 (Dense)              (None, 128)               692352    \n",
      "_________________________________________________________________\n",
      "dense_2 (Dense)              (None, 10)                1290      \n",
      "=================================================================\n",
      "Total params: 693,802\n",
      "Trainable params: 693,802\n",
      "Non-trainable params: 0\n",
      "_________________________________________________________________\n"
     ]
    }
   ],
   "source": [
    "model= Sequential()\n",
    "# here I add one convoluation layer with 32 filters of size (2,2)\n",
    "model.add(Conv2D(32,kernel_size=(2,2),activation='relu',input_shape=input_shape))\n",
    "# here I add one Max pooling layer of size (2,2)\n",
    "model.add(MaxPooling2D(pool_size=(2,2)))\n",
    "# here I add the flatten layer \n",
    "model.add(Flatten())\n",
    "model.add(Dense(128,activation='relu'))\n",
    "# here I add the fully connected layer\n",
    "model.add(Dense(num_classes,activation='softmax'))\n",
    "model.summary()"
   ]
  },
  {
   "cell_type": "code",
   "execution_count": 11,
   "metadata": {},
   "outputs": [],
   "source": [
    "model.compile(loss=keras.losses.categorical_crossentropy,\n",
    "             optimizer=keras.optimizers.Adadelta(),metrics=['accuracy'])\n"
   ]
  },
  {
   "cell_type": "code",
   "execution_count": 12,
   "metadata": {},
   "outputs": [
    {
     "name": "stdout",
     "output_type": "stream",
     "text": [
      "Train on 30000 samples, validate on 10000 samples\n",
      "Epoch 1/10\n",
      "30000/30000 [==============================] - 25s 818us/step - loss: 0.4266 - acc: 0.8716 - val_loss: 0.2930 - val_acc: 0.9057\n",
      "Epoch 2/10\n",
      "30000/30000 [==============================] - 24s 813us/step - loss: 0.1672 - acc: 0.9494 - val_loss: 0.1982 - val_acc: 0.9354\n",
      "Epoch 3/10\n",
      "30000/30000 [==============================] - 24s 810us/step - loss: 0.1079 - acc: 0.9688 - val_loss: 0.1256 - val_acc: 0.9606\n",
      "Epoch 4/10\n",
      "30000/30000 [==============================] - 24s 811us/step - loss: 0.0767 - acc: 0.9774 - val_loss: 0.0910 - val_acc: 0.9721\n",
      "Epoch 5/10\n",
      "30000/30000 [==============================] - 24s 794us/step - loss: 0.0552 - acc: 0.9840 - val_loss: 0.0844 - val_acc: 0.9738\n",
      "Epoch 6/10\n",
      "30000/30000 [==============================] - 24s 789us/step - loss: 0.0429 - acc: 0.9883 - val_loss: 0.1102 - val_acc: 0.9654\n",
      "Epoch 7/10\n",
      "30000/30000 [==============================] - 24s 811us/step - loss: 0.0331 - acc: 0.9909 - val_loss: 0.0822 - val_acc: 0.9745\n",
      "Epoch 8/10\n",
      "30000/30000 [==============================] - 24s 815us/step - loss: 0.0257 - acc: 0.9936 - val_loss: 0.0800 - val_acc: 0.9757\n",
      "Epoch 9/10\n",
      "30000/30000 [==============================] - 25s 826us/step - loss: 0.0204 - acc: 0.9950 - val_loss: 0.0768 - val_acc: 0.9759\n",
      "Epoch 10/10\n",
      "30000/30000 [==============================] - 26s 873us/step - loss: 0.0158 - acc: 0.9965 - val_loss: 0.0713 - val_acc: 0.9792\n"
     ]
    }
   ],
   "source": [
    "history=model.fit(x_train,y_train,batch_size=batch_size,epochs=epochs,verbose=1,validation_data=(x_test,y_test))"
   ]
  },
  {
   "cell_type": "code",
   "execution_count": 13,
   "metadata": {},
   "outputs": [],
   "source": [
    "_, acc = model.evaluate(x_test, y_test, verbose=0)"
   ]
  },
  {
   "cell_type": "code",
   "execution_count": 24,
   "metadata": {},
   "outputs": [
    {
     "data": {
      "image/png": "[encoded data removed]",
      "text/plain": [
       "<Figure size 432x288 with 1 Axes>"
      ]
     },
     "metadata": {
      "needs_background": "light"
     },
     "output_type": "display_data"
    }
   ],
   "source": [
    "import matplotlib.pyplot as plt\n",
    "plt.title('Accuracy rate')\n",
    "plt.plot(history.history['acc'], color='blue', label='train')\n",
    "plt.plot(history.history['val_acc'], color='green', label='test') \n",
    "plt.show()\n",
    "    "
   ]
  },
  {
   "cell_type": "code",
   "execution_count": 26,
   "metadata": {},
   "outputs": [
    {
     "data": {
      "image/png": "[encoded data removed]",
      "text/plain": [
       "<Figure size 432x288 with 1 Axes>"
      ]
     },
     "metadata": {
      "needs_background": "light"
     },
     "output_type": "display_data"
    }
   ],
   "source": [
    "plt.title('Cross Entropy loss rate')\n",
    "plt.plot(history.history['loss'], color='blue', label='train')\n",
    "plt.plot(history.history['val_loss'], color='green', label='test') \n",
    "plt.show()\n",
    "    "
   ]
  },
  {
   "cell_type": "code",
   "execution_count": 29,
   "metadata": {},
   "outputs": [
    {
     "data": {
      "text/plain": [
       "<matplotlib.image.AxesImage at 0xf54a0ba080>"
      ]
     },
     "execution_count": 29,
     "metadata": {},
     "output_type": "execute_result"
    },
    {
     "data": {
      "image/png": "[encoded data removed]",
      "text/plain": [
       "<Figure size 432x288 with 1 Axes>"
      ]
     },
     "metadata": {
      "needs_background": "light"
     },
     "output_type": "display_data"
    }
   ],
   "source": [
    "# took image of index 586 for make prediction\n",
    "plt.imshow(x_test[586].reshape(28, 28),cmap='Greys')\n"
   ]
  },
  {
   "cell_type": "code",
   "execution_count": 32,
   "metadata": {},
   "outputs": [
    {
     "name": "stdout",
     "output_type": "stream",
     "text": [
      "The given image is of 0\n"
     ]
    }
   ],
   "source": [
    "pred = model.predict(x_test[586].reshape(1, img_rows, img_cols, 1))\n",
    "print(\"The given image is of\",pred.argmax())"
   ]
  },
  {
   "cell_type": "code",
   "execution_count": null,
   "metadata": {},
   "outputs": [],
   "source": []
  }
 ],
 "metadata": {
  "kernelspec": {
   "display_name": "Python 3",
   "language": "python",
   "name": "python3"
  },
  "language_info": {
   "codemirror_mode": {
    "name": "ipython",
    "version": 3
   },
   "file_extension": ".py",
   "mimetype": "text/x-python",
   "name": "python",
   "nbconvert_exporter": "python",
   "pygments_lexer": "ipython3",
   "version": "3.6.8"
  }
 },
 "nbformat": 4,
 "nbformat_minor": 2
}
